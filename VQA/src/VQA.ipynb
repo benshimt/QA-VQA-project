{
 "cells": [
  {
   "cell_type": "markdown",
   "metadata": {
    "id": "HfTLXP4vz2wf"
   },
   "source": [
    "**Installations and imports:**"
   ]
  },
  {
   "cell_type": "code",
   "execution_count": 1,
   "metadata": {
    "id": "8n5jpI9E3116"
   },
   "outputs": [
    {
     "name": "stdout",
     "output_type": "stream",
     "text": [
      "fatal: destination path 'whoops-explorer-analysis' already exists and is not an empty directory.\n"
     ]
    }
   ],
   "source": [
    "!pip install -q --upgrade typing-extensions\n",
    "!pip install -q openai==0.28\n",
    "!pip install -q git-lfs\n",
    "!git clone https://huggingface.co/spaces/nlphuji/whoops-explorer-analysis\n",
    "!pip install -q datasets\n"
   ]
  },
  {
   "cell_type": "code",
   "execution_count": 3,
   "metadata": {},
   "outputs": [
    {
     "name": "stderr",
     "output_type": "stream",
     "text": [
      "/home/ronfay/.conda/envs/blip2/lib/python3.10/site-packages/tqdm/auto.py:21: TqdmWarning: IProgress not found. Please update jupyter and ipywidgets. See https://ipywidgets.readthedocs.io/en/stable/user_install.html\n",
      "  from .autonotebook import tqdm as notebook_tqdm\n"
     ]
    }
   ],
   "source": [
    "from datasets import load_dataset\n",
    "import os\n",
    "import random\n",
    "import openai\n",
    "import time\n",
    "import ast\n",
    "import pandas as pd\n",
    "import re\n",
    "import base64\n",
    "from io import BytesIO\n",
    "from transformers import InstructBlipProcessor, InstructBlipForConditionalGeneration\n",
    "import torch\n",
    "from PIL import Image\n",
    "import requests\n",
    "from peft import get_peft_model, LoraConfig, TaskType\n",
    "import numpy as np\n",
    "import traceback\n",
    "from openai.error import InvalidRequestError\n",
    "\n",
    "wmtis = load_dataset(\"nlphuji/wmtis-identify\")['test']"
   ]
  },
  {
   "cell_type": "markdown",
   "metadata": {
    "id": "dmJdDD8Gp1xf"
   },
   "source": [
    "**Openai and helper functions for using api:**"
   ]
  },
  {
   "cell_type": "code",
   "execution_count": 14,
   "metadata": {
    "id": "uQP15g2ozsGM"
   },
   "outputs": [],
   "source": [
    "def _ms_since_epoch():\n",
    "    return time.perf_counter_ns() // 1000000\n",
    "\n",
    "\n",
    "def set_openai_parameters(engine, max_tokens):\n",
    "    # openai API setup and parameters\n",
    "    openai.api_key = \"\"\n",
    "    parameters = {\n",
    "        \"max_tokens\": max_tokens,\n",
    "        \"top_p\": 0,  # greedy\n",
    "        \"temperature\": 0.5,\n",
    "        \"logprobs\": 5,  # maximal value accorrding to https://beta.openai.com/docs/api-reference/completions/create#completions/create-logprobs, used to be 10...\n",
    "        \"engine\": engine,\n",
    "    }\n",
    "    time_of_last_api_call = _ms_since_epoch()\n",
    "\n",
    "    return parameters, time_of_last_api_call\n",
    "\n",
    "\n",
    "def wait_between_predictions(time_of_last_api_call, min_ms_between_api_calls):\n",
    "    if (\n",
    "        cur_time := _ms_since_epoch()\n",
    "    ) <= time_of_last_api_call + min_ms_between_api_calls:\n",
    "        ms_to_sleep = min_ms_between_api_calls - (cur_time - time_of_last_api_call)\n",
    "        time.sleep(ms_to_sleep / 1000)\n",
    "    time_of_last_api_call = _ms_since_epoch()\n",
    "\n",
    "\n",
    "def predict_sample_openai_gpt(\n",
    "    example,\n",
    "    prompt,\n",
    "    min_ms_between_api_calls: int = 500,\n",
    "    engine: str = \"text-davinci-003\",\n",
    "    max_tokens: int = 100,\n",
    "):\n",
    "    parameters, time_of_last_api_call = set_openai_parameters(engine, max_tokens)\n",
    "    parameters[\"prompt\"] = prompt\n",
    "\n",
    "    # OpenAI limits us to 3000 calls per minute:\n",
    "    # https://help.openai.com/en/articles/5955598-is-api-usage-subject-to-any-rate-limits\n",
    "    # that is why the default value of min_ms_between_api_calls is 20\n",
    "    wait_between_predictions(time_of_last_api_call, min_ms_between_api_calls)\n",
    "\n",
    "    response = openai.Completion.create(**parameters)\n",
    "\n",
    "    if response is None:\n",
    "        raise Exception(\"Response from OpenAI API is None.\")\n",
    "\n",
    "    # build output data\n",
    "    prediction = dict()\n",
    "    prediction[\"input\"] = prompt\n",
    "    prediction[\"prediction\"] = response.choices[0].text.strip().strip(\".\")  # type:ignore\n",
    "\n",
    "    # build output metadata\n",
    "    metadata = example.copy()  # dict()\n",
    "    metadata[\"logprobs\"] = response.choices[0][\"logprobs\"]  # type:ignore\n",
    "    # \"finish_reason\" is located in a slightly different location in opt\n",
    "    if \"opt\" in engine:\n",
    "        finish_reason = response.choices[0][\"logprobs\"][  # type:ignore\n",
    "            \"finish_reason\"\n",
    "        ]\n",
    "    else:\n",
    "        finish_reason = response.choices[0][\"finish_reason\"]  # type:ignore\n",
    "    metadata[\"finish_reason\"] = finish_reason\n",
    "    if \"opt\" not in engine:\n",
    "        # From the OpenAI API documentation it's not clear what \"index\" is, but let's keep it as well\n",
    "        metadata[\"index\"] = response.choices[0][\"index\"]  # type:ignore\n",
    "\n",
    "    prediction[\"metadata\"] = metadata\n",
    "\n",
    "    return prediction\n",
    "\n",
    "def predict_sample_openai_chatgpt(\n",
    "    prompt,\n",
    "    img_url,\n",
    "    min_ms_between_api_calls: int = 10000,\n",
    "    engine: str = \"gpt-4o\",\n",
    "    max_tokens: int = 100,\n",
    "):\n",
    "    parameters, time_of_last_api_call = set_openai_parameters(engine, max_tokens)\n",
    "    parameters[\"prompt\"] = prompt\n",
    "\n",
    "    # OpenAI limits us to 3000 calls per minute:\n",
    "    # https://help.openai.com/en/articles/5955598-is-api-usage-subject-to-any-rate-limits\n",
    "    wait_time = 5\n",
    "    time.sleep(wait_time)\n",
    "    try:\n",
    "        response = openai.ChatCompletion.create(model=engine, messages=[{\"role\": \"user\", \"content\": [{\"type\": \"text\", \"text\":prompt},{\n",
    "          \"type\": \"image_url\",\n",
    "          \"image_url\": {\"url\": f\"data:image/jpeg;base64,{img_url}\"\n",
    "}}]}], temperature=parameters['temperature'], top_p=parameters['top_p'])\n",
    "    except openai.error.RateLimitError as e:\n",
    "        wait_time = 10\n",
    "        print(f\"Rate limit reached. Waiting {wait_time} seconds.\")\n",
    "        time.sleep(wait_time)\n",
    "\n",
    "        response = openai.ChatCompletion.create(model=engine, messages=[{\"role\": \"user\", \"content\": prompt}],\n",
    "                                                temperature=parameters['temperature'], top_p=parameters['top_p'])\n",
    "\n",
    "    if response is None:\n",
    "        raise Exception(\"Response from OpenAI API is None.\")\n",
    "\n",
    "    # build output data\n",
    "    prediction = dict()\n",
    "    prediction[\"input\"] = prompt\n",
    "    prediction[\"prediction\"] = response.choices[0].message['content']  # type:ignore\n",
    "\n",
    "    return prediction\n",
    "\n",
    "def gpt4_estimetion(url,question):\n",
    "  prompt = \"\"\n",
    "  #prompt with explanation\n",
    "  if is_explain == True:\n",
    "      prompt = f\"I provided you an image and a question. Provide a basic description of the answer to the question: {question}, in 1-3 words. You can answer 'no answer' if there is absolutely no answer. Add an explanation either way.\"\n",
    "  \n",
    "  #prompt without explanation\n",
    "  else:\n",
    "      prompt = f\"I provided you an image and a question, provide a basic description of the answer to the question: {question}, in 1-3 words. you can answer 'no answer' if there is absolutely no answer visible in the image or you're uncertain\"\n",
    "\n",
    "  gpt4_prediction = predict_sample_openai_chatgpt(prompt,url)\n",
    "  return gpt4_prediction['prediction']\n"
   ]
  },
  {
   "cell_type": "markdown",
   "metadata": {
    "id": "2kFcfRJGlf2x"
   },
   "source": [
    "**sanity check:**"
   ]
  },
  {
   "cell_type": "code",
   "execution_count": 15,
   "metadata": {
    "colab": {
     "base_uri": "https://localhost:8080/"
    },
    "id": "j66Qak4z1pSK",
    "outputId": "8a8b79b1-8075-4a17-ce47-0e84aa85ce21"
   },
   "outputs": [
    {
     "name": "stdout",
     "output_type": "stream",
     "text": [
      "102\n",
      "{'natural_image': <PIL.PngImagePlugin.PngImageFile image mode=RGBA size=860x614 at 0x7F3DC84A8580>, 'normal_image': <PIL.PngImagePlugin.PngImageFile image mode=RGB size=1024x1024 at 0x7F3EA03C5F60>, 'strange_image': <PIL.JpegImagePlugin.JpegImageFile image mode=RGB size=1024x1024 at 0x7F3EA03C7D00>, 'natural_hash': '2b0852954e5fd658b09586e02cdf6d5b2ed68d68989b427c4688dba3d3e457d7', 'normal_hash': 'da0c39cc7246f2228238fad63ec8a405a9b6a35eaf3441bd89572ba6777950b9', 'strange_hash': 'ffad7c0deee280ce9578dd0f3094e517b0a1fa7d4ba47c09201c09d5c5eb8494', 'natural_image_caption': 'a traffic light on a black stand against a white background', 'normal_image_caption': 'a traffic light on a pole', 'strange_image_caption': 'a green traffic light on a gray background', 'rating_natural': 1, 'rating_normal': 1, 'rating_strange': 0, 'comments_natural': 'nan', 'comments_normal': 'nan', 'comments_strange': 'Missing \"all green light\"'}\n"
     ]
    }
   ],
   "source": [
    "print(len(wmtis))\n",
    "print(wmtis[45])"
   ]
  },
  {
   "cell_type": "markdown",
   "metadata": {
    "id": "emMFgf2NoENs"
   },
   "source": [
    "**loading file and extracting data:**"
   ]
  },
  {
   "cell_type": "markdown",
   "metadata": {},
   "source": [
    "**Choose type of questions**"
   ]
  },
  {
   "cell_type": "code",
   "execution_count": 52,
   "metadata": {},
   "outputs": [],
   "source": [
    "# (normal question=question that is reasonable to ask, strange question=question with world knowledge contradiction)\n",
    "type_question = \"normal\" # \"normal\" or \"strange\""
   ]
  },
  {
   "cell_type": "code",
   "execution_count": 54,
   "metadata": {
    "id": "BJsSddRMqUa9"
   },
   "outputs": [
    {
     "name": "stdout",
     "output_type": "stream",
     "text": [
      "what is the color of the snow plow?\n",
      "what is the shape of the life preserver?\n",
      "what is the ship made of?\n",
      "what is written on the blackboard?\n",
      "what is santa claus wearing?\n",
      "what is the hair color of the pregnant woman?\n",
      "what is the color of the pacifier?\n",
      "how is holding the flowers?\n",
      "where the tank is driving?\n",
      "what is the hair color of the riding woman?\n",
      "what is the color of the coffee mug?\n",
      "102\n"
     ]
    }
   ],
   "source": [
    "if type_question == \"strange\":\n",
    "    df = pd.read_csv(\"fixedLabels_full.csv\")\n",
    "    questions = []\n",
    "    \n",
    "    def extract_embedded_question(full):\n",
    "        try:\n",
    "            # Convert string representation of list to actual list\n",
    "            full_list = ast.literal_eval(full)\n",
    "            if isinstance(full_list, list) and len(full_list) > 1:\n",
    "                return full_list[0]\n",
    "            else:\n",
    "                raise ValueError(\"Question does not have the expected format.\")\n",
    "        except (ValueError, SyntaxError) as e:\n",
    "            print(f\"Error parsing question: {full} - {e}\")\n",
    "            return None\n",
    "    \n",
    "    # Apply function to extract the embedded answer\n",
    "    questions = df['full'].apply(extract_embedded_question)\n",
    "\n",
    "\n",
    "elif type_question == \"normal\":\n",
    "    df = pd.read_csv('normal question.csv')\n",
    "    questions = df['question'].tolist()\n",
    "\n",
    "# sanity check:\n",
    "for i in range(len(questions)):\n",
    "    print(questions[i])\n",
    "    if i==10:\n",
    "        break\n",
    "print(len(questions))\n"
   ]
  },
  {
   "cell_type": "markdown",
   "metadata": {},
   "source": [
    "**Choose prompt**"
   ]
  },
  {
   "cell_type": "code",
   "execution_count": 73,
   "metadata": {},
   "outputs": [],
   "source": [
    "type_prompt = \"blip\" # \"gpt\" or \"blip\" (use the same prompt as in GPT experiment / new one that works better for blip)\n",
    "is_explain = True # True or False (with explanation or without)\n",
    "explain = \"explain\" if is_explain else \"no explain\""
   ]
  },
  {
   "cell_type": "markdown",
   "metadata": {},
   "source": [
    "**Blip Model**"
   ]
  },
  {
   "cell_type": "code",
   "execution_count": 21,
   "metadata": {
    "id": "_B4WgvCbrPGh"
   },
   "outputs": [
    {
     "name": "stderr",
     "output_type": "stream",
     "text": [
      "Loading checkpoint shards: 100%|██████████| 4/4 [02:12<00:00, 33.07s/it]\n"
     ]
    },
    {
     "name": "stdout",
     "output_type": "stream",
     "text": [
      "finish from_pretrained model\n"
     ]
    },
    {
     "name": "stderr",
     "output_type": "stream",
     "text": [
      "You are using the default legacy behaviour of the <class 'transformers.models.llama.tokenization_llama_fast.LlamaTokenizerFast'>. This is expected, and simply means that the `legacy` (previous) behavior will be used so nothing changes for you. If you want to use the new behaviour, set `legacy=False`. This should only be set if you understand what it means, and thoroughly read the reason why this was added as explained in https://github.com/huggingface/transformers/pull/24565 - if you loaded a llama tokenizer from a GGUF file you can ignore this message.\n"
     ]
    },
    {
     "name": "stdout",
     "output_type": "stream",
     "text": [
      "finish from_pretrained processor\n"
     ]
    }
   ],
   "source": [
    "model = InstructBlipForConditionalGeneration.from_pretrained(\"Salesforce/instructblip-vicuna-7b\", torch_dtype=torch.float16)\n",
    "print(\"finish from_pretrained model\")\n",
    "\n",
    "processor = InstructBlipProcessor.from_pretrained(\"Salesforce/instructblip-vicuna-7b\")\n",
    "print(\"finish from_pretrained processor\")"
   ]
  },
  {
   "cell_type": "code",
   "execution_count": 22,
   "metadata": {},
   "outputs": [
    {
     "name": "stdout",
     "output_type": "stream",
     "text": [
      "device: cuda\n"
     ]
    }
   ],
   "source": [
    "device = \"cuda\" if torch.cuda.is_available() else \"cpu\"\n",
    "print(\"device:\", device)"
   ]
  },
  {
   "cell_type": "code",
   "execution_count": 23,
   "metadata": {},
   "outputs": [
    {
     "name": "stdout",
     "output_type": "stream",
     "text": [
      "LoRA config created\n",
      "LoRA applied to model\n",
      "model moved to cuda\n"
     ]
    }
   ],
   "source": [
    "# Define LoRA configuration\n",
    "lora_config = LoraConfig(\n",
    "    task_type=TaskType.SEQ_2_SEQ_LM,\n",
    "    r=2,                              \n",
    "    lora_alpha=8,                    \n",
    "    lora_dropout=0.2,                 \n",
    "    target_modules=[\"q_proj\", \"v_proj\"]\n",
    ")\n",
    "\n",
    "print(\"LoRA config created\")\n",
    "\n",
    "# Apply LoRA to the model\n",
    "model = get_peft_model(model, lora_config)\n",
    "print(\"LoRA applied to model\")\n",
    "\n",
    "model.to(device)\n",
    "print(f\"model moved to {device}\")"
   ]
  },
  {
   "cell_type": "code",
   "execution_count": 99,
   "metadata": {
    "id": "r5UyCQ8vrT_u"
   },
   "outputs": [],
   "source": [
    "def blip_estimetion(url,question):\n",
    "\n",
    "  image_data = base64.b64decode(url)\n",
    "  image = Image.open(BytesIO(image_data)).convert(\"RGB\")\n",
    "    \n",
    "  # GPT prompt:\n",
    "  if type_prompt == \"gpt\":\n",
    "      if is_explain:\n",
    "          prompt = f\"I provided you an image and a question. Provide a basic description of the answer to the question: {question}, in 1-3 words. You can answer 'no answer' if there is absolutely no answer. Add an explanation either way.\"\n",
    "      else:\n",
    "            prompt = f\"I provided you an image and a question, provide a basic description of the answer to the question: {question}, in 1-3 words. you can answer 'no answer' if there is absolutely no answer visible in the image or you're uncertain\"\n",
    "\n",
    "  # Best prompt:\n",
    "  elif type_prompt == \"blip\":\n",
    "      if is_explain:\n",
    "        # with explanation:\n",
    "          prompt = f\"Given this image, answer the question: {question} in 1-3 words. Add an explanation.\"\n",
    "      else:\n",
    "        # no explanation:\n",
    "            prompt = f\"Given this image, answer the question: {question} in 1-3 words.\"\n",
    "\n",
    "  # Process the image and text together\n",
    "  inputs = processor(images=image, text=prompt, return_tensors=\"pt\").to(device)\n",
    "\n",
    "  outputs = model.generate(\n",
    "          **inputs,\n",
    "          do_sample=False,\n",
    "          num_beams=5,\n",
    "          max_length=200,\n",
    "          min_length=10,\n",
    "          top_p=0.9, # the probability of the answer\n",
    "          repetition_penalty=1.5,\n",
    "          length_penalty=0.6, # A value greater than 1.0 encourages longer sequences, while a value less than 1.0 encourages shorter sequences.\n",
    "          temperature=1.2,\n",
    "  )\n",
    "    \n",
    "  generated_text = processor.batch_decode(outputs, skip_special_tokens=True)[0].strip()\n",
    "\n",
    "  return generated_text"
   ]
  },
  {
   "cell_type": "markdown",
   "metadata": {
    "id": "Q5MsL8WAuKnM"
   },
   "source": [
    "**Choose model**"
   ]
  },
  {
   "cell_type": "code",
   "execution_count": 100,
   "metadata": {
    "id": "6IiPbNtgkJ25"
   },
   "outputs": [],
   "source": [
    "# model_estimetion = gpt4_estimetion\n",
    "# model_name = 'gpt'\n",
    "# or!!!\n",
    "model_estimetion = blip_estimetion\n",
    "model_name = 'blip'"
   ]
  },
  {
   "cell_type": "markdown",
   "metadata": {
    "id": "l3FealtW0Bc-"
   },
   "source": [
    "**Generating answers according to the prompt (with weird and normal pictures):**"
   ]
  },
  {
   "cell_type": "code",
   "execution_count": null,
   "metadata": {
    "colab": {
     "base_uri": "https://localhost:8080/",
     "height": 367
    },
    "id": "of-NCDt52-RN",
    "outputId": "5ea7cacd-1f39-4585-b8fc-49f88d7135f4"
   },
   "outputs": [],
   "source": [
    "# Initialize dictionaries to store questions and corresponding model answers\n",
    "questions_dict = {'normal_question': [], 'strange_question': []}\n",
    "model_answers = {'normal_answer': [], 'strange_answer': []}\n",
    "\n",
    "# Initialize a counter for the question index\n",
    "question_index = -1\n",
    "\n",
    "# Iterate over the records in the dataset\n",
    "for record in wmtis:\n",
    "    question_index += 1\n",
    "    \n",
    "    if question_index == len(questions):\n",
    "        break\n",
    "\n",
    "    # Get the normal and strange images from the current record\n",
    "    normal_image = record['normal_image']\n",
    "    strange_image = record['strange_image']\n",
    "\n",
    "    # Convert the normal image to a base64-encoded string (URL format)\n",
    "    buffered = BytesIO()\n",
    "    normal_image.save(buffered, format=\"PNG\")\n",
    "    normal_url = base64.b64encode(buffered.getvalue()).decode(\"utf-8\")\n",
    "    \n",
    "    # Try to generate an answer for the normal image using the model\n",
    "    try:\n",
    "        normal_answer = model_estimetion(normal_url, questions[question_index])\n",
    "        model_answers['normal_answer'].append(normal_answer)  # Store the answer\n",
    "        questions_dict['normal_question'].append(questions[question_index])  # Store the corresponding question\n",
    "        \n",
    "    except InvalidRequestError as e:\n",
    "        print(f\"Failed to get caption: {e}\")  # Handle any errors during model inference\n",
    "\n",
    "    # Convert the strange image to a base64-encoded string (URL format)\n",
    "    buffered = BytesIO()\n",
    "    strange_image.save(buffered, format=\"PNG\")\n",
    "    strange_url = base64.b64encode(buffered.getvalue()).decode(\"utf-8\")\n",
    "    \n",
    "    # Try to generate an answer for the strange image using the model\n",
    "    try:\n",
    "        strange_answer = model_estimetion(strange_url, questions[question_index])\n",
    "\n",
    "        model_answers['strange_answer'].append(strange_answer)  # Store the answer\n",
    "        questions_dict['strange_question'].append(questions[question_index])  # Store the corresponding question\n",
    "    \n",
    "    except InvalidRequestError as e:\n",
    "        print(f\"Failed to get caption: {e}\")  # Handle any errors during model inference\n"
   ]
  },
  {
   "cell_type": "markdown",
   "metadata": {
    "id": "UEMHqQsz0VTu"
   },
   "source": [
    "**Sanity check:**"
   ]
  },
  {
   "cell_type": "code",
   "execution_count": 71,
   "metadata": {
    "colab": {
     "base_uri": "https://localhost:8080/"
    },
    "id": "0oTinv6QsPl1",
    "outputId": "831754ef-ef0a-4905-fef9-afcd7628a167"
   },
   "outputs": [
    {
     "name": "stdout",
     "output_type": "stream",
     "text": [
      "102\n"
     ]
    }
   ],
   "source": [
    "print(len(model_answers['strange_answer']))"
   ]
  },
  {
   "cell_type": "markdown",
   "metadata": {
    "id": "zK7HIXOQqxqc"
   },
   "source": [
    "**Saving result in csv files:**"
   ]
  },
  {
   "cell_type": "code",
   "execution_count": 72,
   "metadata": {
    "id": "C4OXFVJYaRC9"
   },
   "outputs": [],
   "source": [
    "normal_df = pd.DataFrame({\n",
    "    'question': questions_dict['normal_question'],\n",
    "    'answer': model_answers['normal_answer']\n",
    "})\n",
    "\n",
    "# Save the DataFrame to a CSV file\n",
    "normal_df.to_csv(f'{type_question}_questions_normal_answers_{type_prompt}_prompt_{explain}_{model_name}.csv', index=False)\n",
    "\n",
    "\n",
    "strange_df = pd.DataFrame({\n",
    "    'question': questions_dict['strange_question'],\n",
    "    'answer': model_answers['strange_answer']\n",
    "})\n",
    "\n",
    "# Save the DataFrame to a CSV file\n",
    "strange_df.to_csv(f'{type_question}_questions_strange_answers_{type_prompt}_prompt_{explain}_{model_name}.csv', index=False)\n"
   ]
  }
 ],
 "metadata": {
  "colab": {
   "provenance": []
  },
  "kernelspec": {
   "display_name": "blip2",
   "language": "python",
   "name": "blip2"
  },
  "language_info": {
   "codemirror_mode": {
    "name": "ipython",
    "version": 3
   },
   "file_extension": ".py",
   "mimetype": "text/x-python",
   "name": "python",
   "nbconvert_exporter": "python",
   "pygments_lexer": "ipython3",
   "version": "3.10.13"
  }
 },
 "nbformat": 4,
 "nbformat_minor": 4
}
