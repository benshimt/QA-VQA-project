{
  "nbformat": 4,
  "nbformat_minor": 0,
  "metadata": {
    "colab": {
      "provenance": [],
      "collapsed_sections": [
        "9fibbXev0cVx",
        "BCkZzgvs12lJ",
        "Qm4HZ7322sse",
        "rmNZD4b625E2"
      ]
    },
    "kernelspec": {
      "name": "python3",
      "display_name": "Python 3"
    },
    "language_info": {
      "name": "python"
    },
    "widgets": {
      "application/vnd.jupyter.widget-state+json": {
        "77e87dc0333744498948fc846cab93d2": {
          "model_module": "@jupyter-widgets/controls",
          "model_name": "HBoxModel",
          "model_module_version": "1.5.0",
          "state": {
            "_dom_classes": [],
            "_model_module": "@jupyter-widgets/controls",
            "_model_module_version": "1.5.0",
            "_model_name": "HBoxModel",
            "_view_count": null,
            "_view_module": "@jupyter-widgets/controls",
            "_view_module_version": "1.5.0",
            "_view_name": "HBoxView",
            "box_style": "",
            "children": [
              "IPY_MODEL_6b54b09423c34ce29e88a6e3834be920",
              "IPY_MODEL_c3b22f61ef9d4cca9259dff780f5a46f",
              "IPY_MODEL_480897bf0f1b4fdca46919fcfd9eeefc"
            ],
            "layout": "IPY_MODEL_37e3069c1fe14c45a58c29f4b0a72c8d"
          }
        },
        "6b54b09423c34ce29e88a6e3834be920": {
          "model_module": "@jupyter-widgets/controls",
          "model_name": "HTMLModel",
          "model_module_version": "1.5.0",
          "state": {
            "_dom_classes": [],
            "_model_module": "@jupyter-widgets/controls",
            "_model_module_version": "1.5.0",
            "_model_name": "HTMLModel",
            "_view_count": null,
            "_view_module": "@jupyter-widgets/controls",
            "_view_module_version": "1.5.0",
            "_view_name": "HTMLView",
            "description": "",
            "description_tooltip": null,
            "layout": "IPY_MODEL_d69cc4746397483492867c6473ac6ce7",
            "placeholder": "​",
            "style": "IPY_MODEL_a219215cf284415c8be1f0b82e8d5b70",
            "value": "100%"
          }
        },
        "c3b22f61ef9d4cca9259dff780f5a46f": {
          "model_module": "@jupyter-widgets/controls",
          "model_name": "FloatProgressModel",
          "model_module_version": "1.5.0",
          "state": {
            "_dom_classes": [],
            "_model_module": "@jupyter-widgets/controls",
            "_model_module_version": "1.5.0",
            "_model_name": "FloatProgressModel",
            "_view_count": null,
            "_view_module": "@jupyter-widgets/controls",
            "_view_module_version": "1.5.0",
            "_view_name": "ProgressView",
            "bar_style": "success",
            "description": "",
            "description_tooltip": null,
            "layout": "IPY_MODEL_4a9da22959d4461384fe0846118553b2",
            "max": 4,
            "min": 0,
            "orientation": "horizontal",
            "style": "IPY_MODEL_cffff28c8a9d4762ab192dae61b444d8",
            "value": 4
          }
        },
        "480897bf0f1b4fdca46919fcfd9eeefc": {
          "model_module": "@jupyter-widgets/controls",
          "model_name": "HTMLModel",
          "model_module_version": "1.5.0",
          "state": {
            "_dom_classes": [],
            "_model_module": "@jupyter-widgets/controls",
            "_model_module_version": "1.5.0",
            "_model_name": "HTMLModel",
            "_view_count": null,
            "_view_module": "@jupyter-widgets/controls",
            "_view_module_version": "1.5.0",
            "_view_name": "HTMLView",
            "description": "",
            "description_tooltip": null,
            "layout": "IPY_MODEL_659e7899f3c843b6bc4fb19900eae721",
            "placeholder": "​",
            "style": "IPY_MODEL_f6a19e52c31549e1b4307c0dd7965fc9",
            "value": " 4/4 [01:15&lt;00:00, 13.03s/it]"
          }
        },
        "37e3069c1fe14c45a58c29f4b0a72c8d": {
          "model_module": "@jupyter-widgets/base",
          "model_name": "LayoutModel",
          "model_module_version": "1.2.0",
          "state": {
            "_model_module": "@jupyter-widgets/base",
            "_model_module_version": "1.2.0",
            "_model_name": "LayoutModel",
            "_view_count": null,
            "_view_module": "@jupyter-widgets/base",
            "_view_module_version": "1.2.0",
            "_view_name": "LayoutView",
            "align_content": null,
            "align_items": null,
            "align_self": null,
            "border": null,
            "bottom": null,
            "display": null,
            "flex": null,
            "flex_flow": null,
            "grid_area": null,
            "grid_auto_columns": null,
            "grid_auto_flow": null,
            "grid_auto_rows": null,
            "grid_column": null,
            "grid_gap": null,
            "grid_row": null,
            "grid_template_areas": null,
            "grid_template_columns": null,
            "grid_template_rows": null,
            "height": null,
            "justify_content": null,
            "justify_items": null,
            "left": null,
            "margin": null,
            "max_height": null,
            "max_width": null,
            "min_height": null,
            "min_width": null,
            "object_fit": null,
            "object_position": null,
            "order": null,
            "overflow": null,
            "overflow_x": null,
            "overflow_y": null,
            "padding": null,
            "right": null,
            "top": null,
            "visibility": null,
            "width": null
          }
        },
        "d69cc4746397483492867c6473ac6ce7": {
          "model_module": "@jupyter-widgets/base",
          "model_name": "LayoutModel",
          "model_module_version": "1.2.0",
          "state": {
            "_model_module": "@jupyter-widgets/base",
            "_model_module_version": "1.2.0",
            "_model_name": "LayoutModel",
            "_view_count": null,
            "_view_module": "@jupyter-widgets/base",
            "_view_module_version": "1.2.0",
            "_view_name": "LayoutView",
            "align_content": null,
            "align_items": null,
            "align_self": null,
            "border": null,
            "bottom": null,
            "display": null,
            "flex": null,
            "flex_flow": null,
            "grid_area": null,
            "grid_auto_columns": null,
            "grid_auto_flow": null,
            "grid_auto_rows": null,
            "grid_column": null,
            "grid_gap": null,
            "grid_row": null,
            "grid_template_areas": null,
            "grid_template_columns": null,
            "grid_template_rows": null,
            "height": null,
            "justify_content": null,
            "justify_items": null,
            "left": null,
            "margin": null,
            "max_height": null,
            "max_width": null,
            "min_height": null,
            "min_width": null,
            "object_fit": null,
            "object_position": null,
            "order": null,
            "overflow": null,
            "overflow_x": null,
            "overflow_y": null,
            "padding": null,
            "right": null,
            "top": null,
            "visibility": null,
            "width": null
          }
        },
        "a219215cf284415c8be1f0b82e8d5b70": {
          "model_module": "@jupyter-widgets/controls",
          "model_name": "DescriptionStyleModel",
          "model_module_version": "1.5.0",
          "state": {
            "_model_module": "@jupyter-widgets/controls",
            "_model_module_version": "1.5.0",
            "_model_name": "DescriptionStyleModel",
            "_view_count": null,
            "_view_module": "@jupyter-widgets/base",
            "_view_module_version": "1.2.0",
            "_view_name": "StyleView",
            "description_width": ""
          }
        },
        "4a9da22959d4461384fe0846118553b2": {
          "model_module": "@jupyter-widgets/base",
          "model_name": "LayoutModel",
          "model_module_version": "1.2.0",
          "state": {
            "_model_module": "@jupyter-widgets/base",
            "_model_module_version": "1.2.0",
            "_model_name": "LayoutModel",
            "_view_count": null,
            "_view_module": "@jupyter-widgets/base",
            "_view_module_version": "1.2.0",
            "_view_name": "LayoutView",
            "align_content": null,
            "align_items": null,
            "align_self": null,
            "border": null,
            "bottom": null,
            "display": null,
            "flex": null,
            "flex_flow": null,
            "grid_area": null,
            "grid_auto_columns": null,
            "grid_auto_flow": null,
            "grid_auto_rows": null,
            "grid_column": null,
            "grid_gap": null,
            "grid_row": null,
            "grid_template_areas": null,
            "grid_template_columns": null,
            "grid_template_rows": null,
            "height": null,
            "justify_content": null,
            "justify_items": null,
            "left": null,
            "margin": null,
            "max_height": null,
            "max_width": null,
            "min_height": null,
            "min_width": null,
            "object_fit": null,
            "object_position": null,
            "order": null,
            "overflow": null,
            "overflow_x": null,
            "overflow_y": null,
            "padding": null,
            "right": null,
            "top": null,
            "visibility": null,
            "width": null
          }
        },
        "cffff28c8a9d4762ab192dae61b444d8": {
          "model_module": "@jupyter-widgets/controls",
          "model_name": "ProgressStyleModel",
          "model_module_version": "1.5.0",
          "state": {
            "_model_module": "@jupyter-widgets/controls",
            "_model_module_version": "1.5.0",
            "_model_name": "ProgressStyleModel",
            "_view_count": null,
            "_view_module": "@jupyter-widgets/base",
            "_view_module_version": "1.2.0",
            "_view_name": "StyleView",
            "bar_color": null,
            "description_width": ""
          }
        },
        "659e7899f3c843b6bc4fb19900eae721": {
          "model_module": "@jupyter-widgets/base",
          "model_name": "LayoutModel",
          "model_module_version": "1.2.0",
          "state": {
            "_model_module": "@jupyter-widgets/base",
            "_model_module_version": "1.2.0",
            "_model_name": "LayoutModel",
            "_view_count": null,
            "_view_module": "@jupyter-widgets/base",
            "_view_module_version": "1.2.0",
            "_view_name": "LayoutView",
            "align_content": null,
            "align_items": null,
            "align_self": null,
            "border": null,
            "bottom": null,
            "display": null,
            "flex": null,
            "flex_flow": null,
            "grid_area": null,
            "grid_auto_columns": null,
            "grid_auto_flow": null,
            "grid_auto_rows": null,
            "grid_column": null,
            "grid_gap": null,
            "grid_row": null,
            "grid_template_areas": null,
            "grid_template_columns": null,
            "grid_template_rows": null,
            "height": null,
            "justify_content": null,
            "justify_items": null,
            "left": null,
            "margin": null,
            "max_height": null,
            "max_width": null,
            "min_height": null,
            "min_width": null,
            "object_fit": null,
            "object_position": null,
            "order": null,
            "overflow": null,
            "overflow_x": null,
            "overflow_y": null,
            "padding": null,
            "right": null,
            "top": null,
            "visibility": null,
            "width": null
          }
        },
        "f6a19e52c31549e1b4307c0dd7965fc9": {
          "model_module": "@jupyter-widgets/controls",
          "model_name": "DescriptionStyleModel",
          "model_module_version": "1.5.0",
          "state": {
            "_model_module": "@jupyter-widgets/controls",
            "_model_module_version": "1.5.0",
            "_model_name": "DescriptionStyleModel",
            "_view_count": null,
            "_view_module": "@jupyter-widgets/base",
            "_view_module_version": "1.2.0",
            "_view_name": "StyleView",
            "description_width": ""
          }
        },
        "17c364d1f7304695b8dffdbad0187004": {
          "model_module": "@jupyter-widgets/controls",
          "model_name": "HBoxModel",
          "model_module_version": "1.5.0",
          "state": {
            "_dom_classes": [],
            "_model_module": "@jupyter-widgets/controls",
            "_model_module_version": "1.5.0",
            "_model_name": "HBoxModel",
            "_view_count": null,
            "_view_module": "@jupyter-widgets/controls",
            "_view_module_version": "1.5.0",
            "_view_name": "HBoxView",
            "box_style": "",
            "children": [
              "IPY_MODEL_03e239af70e54eb79aedd7814f2d49f0",
              "IPY_MODEL_19cef00bc75043b28e2d42a6532a41d5",
              "IPY_MODEL_2e2de58d032d4b6c91cd5e7876ef3d67"
            ],
            "layout": "IPY_MODEL_d24b60ecba1442409587d74faed38d5c"
          }
        },
        "03e239af70e54eb79aedd7814f2d49f0": {
          "model_module": "@jupyter-widgets/controls",
          "model_name": "HTMLModel",
          "model_module_version": "1.5.0",
          "state": {
            "_dom_classes": [],
            "_model_module": "@jupyter-widgets/controls",
            "_model_module_version": "1.5.0",
            "_model_name": "HTMLModel",
            "_view_count": null,
            "_view_module": "@jupyter-widgets/controls",
            "_view_module_version": "1.5.0",
            "_view_name": "HTMLView",
            "description": "",
            "description_tooltip": null,
            "layout": "IPY_MODEL_e4b237da4488431db08bb7e6e363d2db",
            "placeholder": "​",
            "style": "IPY_MODEL_6d343409b8924473a692b89724c54b84",
            "value": "100%"
          }
        },
        "19cef00bc75043b28e2d42a6532a41d5": {
          "model_module": "@jupyter-widgets/controls",
          "model_name": "FloatProgressModel",
          "model_module_version": "1.5.0",
          "state": {
            "_dom_classes": [],
            "_model_module": "@jupyter-widgets/controls",
            "_model_module_version": "1.5.0",
            "_model_name": "FloatProgressModel",
            "_view_count": null,
            "_view_module": "@jupyter-widgets/controls",
            "_view_module_version": "1.5.0",
            "_view_name": "ProgressView",
            "bar_style": "success",
            "description": "",
            "description_tooltip": null,
            "layout": "IPY_MODEL_9ab0f14af2dc43758231270ccd4deeac",
            "max": 2,
            "min": 0,
            "orientation": "horizontal",
            "style": "IPY_MODEL_c01e0a780c354a7fafa1ead53c675fa2",
            "value": 2
          }
        },
        "2e2de58d032d4b6c91cd5e7876ef3d67": {
          "model_module": "@jupyter-widgets/controls",
          "model_name": "HTMLModel",
          "model_module_version": "1.5.0",
          "state": {
            "_dom_classes": [],
            "_model_module": "@jupyter-widgets/controls",
            "_model_module_version": "1.5.0",
            "_model_name": "HTMLModel",
            "_view_count": null,
            "_view_module": "@jupyter-widgets/controls",
            "_view_module_version": "1.5.0",
            "_view_name": "HTMLView",
            "description": "",
            "description_tooltip": null,
            "layout": "IPY_MODEL_2e062c34fb474a8cae6d8fe64fa699ad",
            "placeholder": "​",
            "style": "IPY_MODEL_9472287c3bb948b8b53f7465e3376425",
            "value": " 2/2 [00:00&lt;00:00, 30.15it/s]"
          }
        },
        "d24b60ecba1442409587d74faed38d5c": {
          "model_module": "@jupyter-widgets/base",
          "model_name": "LayoutModel",
          "model_module_version": "1.2.0",
          "state": {
            "_model_module": "@jupyter-widgets/base",
            "_model_module_version": "1.2.0",
            "_model_name": "LayoutModel",
            "_view_count": null,
            "_view_module": "@jupyter-widgets/base",
            "_view_module_version": "1.2.0",
            "_view_name": "LayoutView",
            "align_content": null,
            "align_items": null,
            "align_self": null,
            "border": null,
            "bottom": null,
            "display": null,
            "flex": null,
            "flex_flow": null,
            "grid_area": null,
            "grid_auto_columns": null,
            "grid_auto_flow": null,
            "grid_auto_rows": null,
            "grid_column": null,
            "grid_gap": null,
            "grid_row": null,
            "grid_template_areas": null,
            "grid_template_columns": null,
            "grid_template_rows": null,
            "height": null,
            "justify_content": null,
            "justify_items": null,
            "left": null,
            "margin": null,
            "max_height": null,
            "max_width": null,
            "min_height": null,
            "min_width": null,
            "object_fit": null,
            "object_position": null,
            "order": null,
            "overflow": null,
            "overflow_x": null,
            "overflow_y": null,
            "padding": null,
            "right": null,
            "top": null,
            "visibility": null,
            "width": null
          }
        },
        "e4b237da4488431db08bb7e6e363d2db": {
          "model_module": "@jupyter-widgets/base",
          "model_name": "LayoutModel",
          "model_module_version": "1.2.0",
          "state": {
            "_model_module": "@jupyter-widgets/base",
            "_model_module_version": "1.2.0",
            "_model_name": "LayoutModel",
            "_view_count": null,
            "_view_module": "@jupyter-widgets/base",
            "_view_module_version": "1.2.0",
            "_view_name": "LayoutView",
            "align_content": null,
            "align_items": null,
            "align_self": null,
            "border": null,
            "bottom": null,
            "display": null,
            "flex": null,
            "flex_flow": null,
            "grid_area": null,
            "grid_auto_columns": null,
            "grid_auto_flow": null,
            "grid_auto_rows": null,
            "grid_column": null,
            "grid_gap": null,
            "grid_row": null,
            "grid_template_areas": null,
            "grid_template_columns": null,
            "grid_template_rows": null,
            "height": null,
            "justify_content": null,
            "justify_items": null,
            "left": null,
            "margin": null,
            "max_height": null,
            "max_width": null,
            "min_height": null,
            "min_width": null,
            "object_fit": null,
            "object_position": null,
            "order": null,
            "overflow": null,
            "overflow_x": null,
            "overflow_y": null,
            "padding": null,
            "right": null,
            "top": null,
            "visibility": null,
            "width": null
          }
        },
        "6d343409b8924473a692b89724c54b84": {
          "model_module": "@jupyter-widgets/controls",
          "model_name": "DescriptionStyleModel",
          "model_module_version": "1.5.0",
          "state": {
            "_model_module": "@jupyter-widgets/controls",
            "_model_module_version": "1.5.0",
            "_model_name": "DescriptionStyleModel",
            "_view_count": null,
            "_view_module": "@jupyter-widgets/base",
            "_view_module_version": "1.2.0",
            "_view_name": "StyleView",
            "description_width": ""
          }
        },
        "9ab0f14af2dc43758231270ccd4deeac": {
          "model_module": "@jupyter-widgets/base",
          "model_name": "LayoutModel",
          "model_module_version": "1.2.0",
          "state": {
            "_model_module": "@jupyter-widgets/base",
            "_model_module_version": "1.2.0",
            "_model_name": "LayoutModel",
            "_view_count": null,
            "_view_module": "@jupyter-widgets/base",
            "_view_module_version": "1.2.0",
            "_view_name": "LayoutView",
            "align_content": null,
            "align_items": null,
            "align_self": null,
            "border": null,
            "bottom": null,
            "display": null,
            "flex": null,
            "flex_flow": null,
            "grid_area": null,
            "grid_auto_columns": null,
            "grid_auto_flow": null,
            "grid_auto_rows": null,
            "grid_column": null,
            "grid_gap": null,
            "grid_row": null,
            "grid_template_areas": null,
            "grid_template_columns": null,
            "grid_template_rows": null,
            "height": null,
            "justify_content": null,
            "justify_items": null,
            "left": null,
            "margin": null,
            "max_height": null,
            "max_width": null,
            "min_height": null,
            "min_width": null,
            "object_fit": null,
            "object_position": null,
            "order": null,
            "overflow": null,
            "overflow_x": null,
            "overflow_y": null,
            "padding": null,
            "right": null,
            "top": null,
            "visibility": null,
            "width": null
          }
        },
        "c01e0a780c354a7fafa1ead53c675fa2": {
          "model_module": "@jupyter-widgets/controls",
          "model_name": "ProgressStyleModel",
          "model_module_version": "1.5.0",
          "state": {
            "_model_module": "@jupyter-widgets/controls",
            "_model_module_version": "1.5.0",
            "_model_name": "ProgressStyleModel",
            "_view_count": null,
            "_view_module": "@jupyter-widgets/base",
            "_view_module_version": "1.2.0",
            "_view_name": "StyleView",
            "bar_color": null,
            "description_width": ""
          }
        },
        "2e062c34fb474a8cae6d8fe64fa699ad": {
          "model_module": "@jupyter-widgets/base",
          "model_name": "LayoutModel",
          "model_module_version": "1.2.0",
          "state": {
            "_model_module": "@jupyter-widgets/base",
            "_model_module_version": "1.2.0",
            "_model_name": "LayoutModel",
            "_view_count": null,
            "_view_module": "@jupyter-widgets/base",
            "_view_module_version": "1.2.0",
            "_view_name": "LayoutView",
            "align_content": null,
            "align_items": null,
            "align_self": null,
            "border": null,
            "bottom": null,
            "display": null,
            "flex": null,
            "flex_flow": null,
            "grid_area": null,
            "grid_auto_columns": null,
            "grid_auto_flow": null,
            "grid_auto_rows": null,
            "grid_column": null,
            "grid_gap": null,
            "grid_row": null,
            "grid_template_areas": null,
            "grid_template_columns": null,
            "grid_template_rows": null,
            "height": null,
            "justify_content": null,
            "justify_items": null,
            "left": null,
            "margin": null,
            "max_height": null,
            "max_width": null,
            "min_height": null,
            "min_width": null,
            "object_fit": null,
            "object_position": null,
            "order": null,
            "overflow": null,
            "overflow_x": null,
            "overflow_y": null,
            "padding": null,
            "right": null,
            "top": null,
            "visibility": null,
            "width": null
          }
        },
        "9472287c3bb948b8b53f7465e3376425": {
          "model_module": "@jupyter-widgets/controls",
          "model_name": "DescriptionStyleModel",
          "model_module_version": "1.5.0",
          "state": {
            "_model_module": "@jupyter-widgets/controls",
            "_model_module_version": "1.5.0",
            "_model_name": "DescriptionStyleModel",
            "_view_count": null,
            "_view_module": "@jupyter-widgets/base",
            "_view_module_version": "1.2.0",
            "_view_name": "StyleView",
            "description_width": ""
          }
        }
      }
    }
  },
  "cells": [
    {
      "cell_type": "markdown",
      "source": [
        "This notebook is from \"WHOOPS!\" article code, we used only the first task - Image Captioning.\n",
        "\n",
        "We only changed the DataFrame parameters: TASK_CAPTIONING, CROWD_CAPTIONS, and file_input_path. Additionally, we added a BERTScore to the results."
      ],
      "metadata": {
        "id": "EJpmmslQ0f7W"
      }
    },
    {
      "cell_type": "markdown",
      "source": [
        "# Evaluate WHOOPS! benchmark\n",
        "\n",
        "WHOOPS! benchmark presents 4 tasks: Explanation-of-violation, Image Captioning, Image-text Matching and Visual Quesion Answering (VQA).\n",
        "\n",
        "This colab-noteook implements the evaluation calculation for 3 tasks: Image Captioning, Image-text Matching and VQA.\n",
        "The WHOOPS! evaluation file for this notebook can be found [here](https://drive.google.com/file/d/1dx6fuxKf4Yc18xvLmTr-nRkBT_TYTKdq/view?usp=share_link).\n",
        "\n",
        "The task of Explanation-of-violation is currently using human evaluation. If you want to compute your results on this task, please send a mail to: yonatanbitton1@gmail.com\n",
        "\n",
        "**NOTE** for VQA task: BEM calculation is very slow, if you want to calculate it, run the relevant calls in [section](https://colab.research.google.com/drive/1av7JdDk005qQL6WdAVL0kFlah7VXV0Md#scrollTo=Qm4HZ7322sse)"
      ],
      "metadata": {
        "id": "bEtqvfWs9d6C"
      }
    },
    {
      "cell_type": "code",
      "source": [
        "#@title Inastallaions & Imports.\n",
        "\n",
        "!pip install -q \"git+https://github.com/salaniz/pycocoevalcap.git\"\n",
        "!pip install -q tensorflow-text\n",
        "!pip install -q bert-score\n",
        "\n",
        "from pycocoevalcap.eval import COCOEvalCap\n",
        "from pycocotools.coco import COCO\n",
        "from pycocoevalcap.tokenizer.ptbtokenizer import PTBTokenizer\n",
        "from pycocoevalcap.cider.cider import Cider\n",
        "from pycocoevalcap.bleu.bleu import Bleu\n",
        "import tensorflow as tf\n",
        "# import tensorflow_hub as hub\n",
        "import tensorflow_text as text\n",
        "from scipy.special import softmax\n",
        "import numpy as np\n",
        "import pandas as pd\n",
        "from tqdm import tqdm\n",
        "import json\n",
        "from bert_score import score as bert_score"
      ],
      "metadata": {
        "id": "OVS4hkDrkM79",
        "colab": {
          "base_uri": "https://localhost:8080/"
        },
        "outputId": "a088d446-e3e4-474f-a3aa-473c6fd2ae87"
      },
      "execution_count": 1,
      "outputs": [
        {
          "output_type": "stream",
          "name": "stdout",
          "text": [
            "  Preparing metadata (setup.py) ... \u001b[?25l\u001b[?25hdone\n",
            "  Building wheel for pycocoevalcap (setup.py) ... \u001b[?25l\u001b[?25hdone\n",
            "\u001b[2K   \u001b[90m━━━━━━━━━━━━━━━━━━━━━━━━━━━━━━━━━━━━━━━━\u001b[0m \u001b[32m5.2/5.2 MB\u001b[0m \u001b[31m40.6 MB/s\u001b[0m eta \u001b[36m0:00:00\u001b[0m\n",
            "\u001b[2K   \u001b[90m━━━━━━━━━━━━━━━━━━━━━━━━━━━━━━━━━━━━━━━━\u001b[0m \u001b[32m61.1/61.1 kB\u001b[0m \u001b[31m3.0 MB/s\u001b[0m eta \u001b[36m0:00:00\u001b[0m\n",
            "\u001b[?25h"
          ]
        }
      ]
    },
    {
      "cell_type": "markdown",
      "source": [
        "If you want to evaluate our model's generated captions, put in the next cell:\n",
        "\n",
        "file_input_path = weird_df.csv or normal_df.csv\n",
        "\n",
        "and choose the model:\n",
        "model_name=\"gpt\" or \"blip\""
      ],
      "metadata": {
        "id": "VJV5cQpnvcwk"
      }
    },
    {
      "cell_type": "code",
      "source": [
        "model_name=\"blip\" # \"blip\" or \"gpt\""
      ],
      "metadata": {
        "id": "k90YAO87c8SW"
      },
      "execution_count": 159,
      "outputs": []
    },
    {
      "cell_type": "code",
      "source": [
        "#@title Set up DataFrame parameters for evaluation.\n",
        "\n",
        "TASK_VQA = 'gpt4o_vqa' #@param {type:\"string\"}\n",
        "QUESTION_KEY_QA_DICT = 'question' #@param {type:\"string\"}\n",
        "REFERENCE_KEY_QA_DICT = 'ground_truth_answer' #@param {type:\"string\"}\n",
        "CANDIDATE_KEY_QA_DICT = 'predicted_answer' #@param {type:\"string\"}\n",
        "\n",
        "TASK_MATCHING = 'blip_matching' #@param {type:\"string\"}\n",
        "\n",
        "TASK_CAPTIONING = f\"{model_name}_captioning\" #@param {type:\"string\"} #blip_captioning\n",
        "\n",
        "POSITIVE = 'positive' #@param {type:\"string\"}\n",
        "UNDER_SPECIFIED = 'under_specified' #@param {type:\"string\"}\n",
        "\n",
        "IMAGE_ID = 'image_id' #@param {type:\"string\"}\n",
        "CROWD_CAPTIONS = 'crowd_captions' #@param {type:\"string\"} , original_captions\n",
        "\n",
        "ITM_SCORE = 'itm_score'\n",
        "MATCHING_SCORE_ITM = 'matching_score_itm'\n",
        "\n",
        "file_input_path = 'normal_df.csv' #@param {type:\"string\"} or normal_df.csv"
      ],
      "metadata": {
        "id": "dGAjGgabkkOt"
      },
      "execution_count": 177,
      "outputs": []
    },
    {
      "cell_type": "markdown",
      "source": [
        "## Create weird/normal df\n",
        "You don't have to run it, because the weird and normal dfs exist.\n"
      ],
      "metadata": {
        "id": "U-H2VC8UuNoZ"
      }
    },
    {
      "cell_type": "markdown",
      "source": [
        "Takes the generated captions df, and creates normal df and weird df, with the relevant columns for evaluation"
      ],
      "metadata": {
        "id": "Jc66iESZuSqq"
      }
    },
    {
      "cell_type": "code",
      "source": [
        "fixedLabels = pd.read_csv(\"fixedLabels.csv\")\n",
        "all_generated_df = pd.read_csv(f\"{model_name}-generated_captions.csv\")"
      ],
      "metadata": {
        "id": "cB_ufkySqv8d"
      },
      "execution_count": 161,
      "outputs": []
    },
    {
      "cell_type": "markdown",
      "source": [
        "### Normal captions"
      ],
      "metadata": {
        "id": "thCWDMLkIGIu"
      }
    },
    {
      "cell_type": "code",
      "source": [
        "normal_generated = all_generated_df[['normal']]"
      ],
      "metadata": {
        "id": "YAu93KNIiIxW"
      },
      "execution_count": 162,
      "outputs": []
    },
    {
      "cell_type": "code",
      "source": [
        "normal_df = fixedLabels[fixedLabels.index % 2 == 0].reset_index(drop=True)"
      ],
      "metadata": {
        "id": "vL784rrgsQbL"
      },
      "execution_count": 163,
      "outputs": []
    },
    {
      "cell_type": "code",
      "source": [
        "def add_double_quotes(text):\n",
        "    if isinstance(text, str):\n",
        "        return f'\"{text}\"'\n",
        "    return text\n",
        "\n",
        "# Apply the function to the 'captions' column and create a new column 'crowd_captions'\n",
        "normal_df['crowd_captions'] = normal_df['captions'].apply(add_double_quotes)\n",
        "normal_df[f'{model_name}_captioning'] = normal_generated['normal'].values\n",
        "normal_df[f'{model_name}_captioning'] = normal_df[f'{model_name}_captioning'].str.replace('\"', \"'\")\n",
        "normal_df[f'{model_name}_captioning'] = normal_df[f'{model_name}_captioning'].apply(add_double_quotes)\n",
        "\n",
        "normal_df['image_id'] = None\n",
        "normal_df['image_id'] = normal_df['image_id'].fillna(pd.Series(range(1, len(normal_df) + 1)))"
      ],
      "metadata": {
        "id": "rRWgJdZhsTxu"
      },
      "execution_count": 164,
      "outputs": []
    },
    {
      "cell_type": "code",
      "source": [
        "normal_df.to_csv(\"normal_df.csv\")"
      ],
      "metadata": {
        "id": "ZXJhTcIkwSaN"
      },
      "execution_count": 165,
      "outputs": []
    },
    {
      "cell_type": "markdown",
      "source": [
        "### Weird captions"
      ],
      "metadata": {
        "id": "MIFtPCdcIBFO"
      }
    },
    {
      "cell_type": "code",
      "source": [
        "big_data = pd.read_csv(\"whoops_dataset.csv\")"
      ],
      "metadata": {
        "id": "4OwQxjsYISkU"
      },
      "execution_count": 166,
      "outputs": []
    },
    {
      "cell_type": "code",
      "source": [
        "weird_generated = all_generated_df[['strange']]"
      ],
      "metadata": {
        "id": "aQGsF_Opll8T"
      },
      "execution_count": 167,
      "outputs": []
    },
    {
      "cell_type": "code",
      "source": [
        "weird_df = fixedLabels[fixedLabels.index % 2 == 1].reset_index(drop=True)"
      ],
      "metadata": {
        "id": "Dk_m0e9AjIru"
      },
      "execution_count": 168,
      "outputs": []
    },
    {
      "cell_type": "code",
      "source": [
        "weird_df[f'{model_name}_captioning'] = weird_generated['strange'].values\n",
        "# Merge the DataFrames on the 'selected_caption' column\n",
        "merged_data=None\n",
        "merged_data = pd.merge(weird_df, big_data, on='selected_caption', how='left')\n",
        "# Update the 'crowd_captions' column in fixedLabels with the corresponding values from big_data\n",
        "weird_df['crowd_captions'] = merged_data['crowd_captions']\n",
        "weird_df['image_id'] = merged_data['image_id']"
      ],
      "metadata": {
        "id": "FTY2YU4HZgGJ"
      },
      "execution_count": 169,
      "outputs": []
    },
    {
      "cell_type": "code",
      "source": [
        "weird_df[f'{model_name}_captioning'] = weird_df[f'{model_name}_captioning'].str.replace('\"', \"'\")\n",
        "weird_df[f'{model_name}_captioning'] = weird_df[f'{model_name}_captioning'].apply(add_double_quotes)\n"
      ],
      "metadata": {
        "id": "G9S6Fv8GfBww"
      },
      "execution_count": 170,
      "outputs": []
    },
    {
      "cell_type": "code",
      "source": [
        "len(weird_df)"
      ],
      "metadata": {
        "colab": {
          "base_uri": "https://localhost:8080/"
        },
        "id": "o84YSxXefXC-",
        "outputId": "5795b257-795d-4ebe-af50-ce6bc8eecb3a"
      },
      "execution_count": 171,
      "outputs": [
        {
          "output_type": "execute_result",
          "data": {
            "text/plain": [
              "101"
            ]
          },
          "metadata": {},
          "execution_count": 171
        }
      ]
    },
    {
      "cell_type": "code",
      "source": [
        "weird_df.dropna(subset=['crowd_captions'], inplace=True)"
      ],
      "metadata": {
        "id": "LGCkd-q38O21"
      },
      "execution_count": 172,
      "outputs": []
    },
    {
      "cell_type": "code",
      "source": [
        "len(weird_df)"
      ],
      "metadata": {
        "colab": {
          "base_uri": "https://localhost:8080/"
        },
        "id": "NlcEnGkqd4X5",
        "outputId": "2280f305-3f76-4e4d-e2b4-943d276552db"
      },
      "execution_count": 173,
      "outputs": [
        {
          "output_type": "execute_result",
          "data": {
            "text/plain": [
              "98"
            ]
          },
          "metadata": {},
          "execution_count": 173
        }
      ]
    },
    {
      "cell_type": "code",
      "source": [
        "weird_df.to_csv(\"weird_df.csv\")\n"
      ],
      "metadata": {
        "id": "SHli5-x02hLh"
      },
      "execution_count": 174,
      "outputs": []
    },
    {
      "cell_type": "code",
      "source": [
        "model_captioning_1 = weird_df[[f'{model_name}_captioning']]\n",
        "model_captioning_2 = normal_df[[f'{model_name}_captioning']]\n",
        "\n",
        "# Concatenate the columns\n",
        "merged_model_captioning = pd.concat([model_captioning_1, model_captioning_2], ignore_index=True)"
      ],
      "metadata": {
        "id": "Eex3YbwktRSt"
      },
      "execution_count": 175,
      "outputs": []
    },
    {
      "cell_type": "code",
      "source": [
        "# for using in caption classification notebook\n",
        "merged_model_captioning.to_csv(f'{model_name}_new_captions.csv', index=False)"
      ],
      "metadata": {
        "id": "j4V9nh-Et89P"
      },
      "execution_count": 176,
      "outputs": []
    },
    {
      "cell_type": "code",
      "source": [
        "# # # check the rows if there is a problem:\n",
        "# columns_to_process = [TASK_CAPTIONING, CROWD_CAPTIONS, TASK_VQA, TASK_MATCHING]\n",
        "\n",
        "# # Check for problematic JSON entries\n",
        "# for c in columns_to_process:\n",
        "#     if c in df:\n",
        "#         print(f\"Processing column: {c}\")\n",
        "#         for index, value in df[c].items():\n",
        "#             try:\n",
        "#                 df.at[index, c] = json.loads(value)\n",
        "#             except json.JSONDecodeError as e:\n",
        "#                 print(f\"Error decoding JSON in column '{c}', row {index}: {value}\")\n",
        "#                 # You can choose to handle the error here, for example by setting it to an empty dict\n",
        "#                 df.at[index, c] = {}  # Or handle it in another way that makes sense for your application"
      ],
      "metadata": {
        "colab": {
          "base_uri": "https://localhost:8080/",
          "height": 349
        },
        "id": "ZtI_ixu8oi7A",
        "outputId": "e63d1b12-b786-45c9-f2b2-a54938ef40d7",
        "collapsed": true
      },
      "execution_count": 84,
      "outputs": [
        {
          "output_type": "stream",
          "name": "stdout",
          "text": [
            "Processing column: blip_captioning\n"
          ]
        },
        {
          "output_type": "error",
          "ename": "TypeError",
          "evalue": "the JSON object must be str, bytes or bytearray, not float",
          "traceback": [
            "\u001b[0;31m---------------------------------------------------------------------------\u001b[0m",
            "\u001b[0;31mTypeError\u001b[0m                                 Traceback (most recent call last)",
            "\u001b[0;32m<ipython-input-84-285857f9a0b7>\u001b[0m in \u001b[0;36m<cell line: 5>\u001b[0;34m()\u001b[0m\n\u001b[1;32m      8\u001b[0m         \u001b[0;32mfor\u001b[0m \u001b[0mindex\u001b[0m\u001b[0;34m,\u001b[0m \u001b[0mvalue\u001b[0m \u001b[0;32min\u001b[0m \u001b[0mdf\u001b[0m\u001b[0;34m[\u001b[0m\u001b[0mc\u001b[0m\u001b[0;34m]\u001b[0m\u001b[0;34m.\u001b[0m\u001b[0mitems\u001b[0m\u001b[0;34m(\u001b[0m\u001b[0;34m)\u001b[0m\u001b[0;34m:\u001b[0m\u001b[0;34m\u001b[0m\u001b[0;34m\u001b[0m\u001b[0m\n\u001b[1;32m      9\u001b[0m             \u001b[0;32mtry\u001b[0m\u001b[0;34m:\u001b[0m\u001b[0;34m\u001b[0m\u001b[0;34m\u001b[0m\u001b[0m\n\u001b[0;32m---> 10\u001b[0;31m                 \u001b[0mdf\u001b[0m\u001b[0;34m.\u001b[0m\u001b[0mat\u001b[0m\u001b[0;34m[\u001b[0m\u001b[0mindex\u001b[0m\u001b[0;34m,\u001b[0m \u001b[0mc\u001b[0m\u001b[0;34m]\u001b[0m \u001b[0;34m=\u001b[0m \u001b[0mjson\u001b[0m\u001b[0;34m.\u001b[0m\u001b[0mloads\u001b[0m\u001b[0;34m(\u001b[0m\u001b[0mvalue\u001b[0m\u001b[0;34m)\u001b[0m\u001b[0;34m\u001b[0m\u001b[0;34m\u001b[0m\u001b[0m\n\u001b[0m\u001b[1;32m     11\u001b[0m             \u001b[0;32mexcept\u001b[0m \u001b[0mjson\u001b[0m\u001b[0;34m.\u001b[0m\u001b[0mJSONDecodeError\u001b[0m \u001b[0;32mas\u001b[0m \u001b[0me\u001b[0m\u001b[0;34m:\u001b[0m\u001b[0;34m\u001b[0m\u001b[0;34m\u001b[0m\u001b[0m\n\u001b[1;32m     12\u001b[0m                 \u001b[0mprint\u001b[0m\u001b[0;34m(\u001b[0m\u001b[0;34mf\"Error decoding JSON in column '{c}', row {index}: {value}\"\u001b[0m\u001b[0;34m)\u001b[0m\u001b[0;34m\u001b[0m\u001b[0;34m\u001b[0m\u001b[0m\n",
            "\u001b[0;32m/usr/lib/python3.10/json/__init__.py\u001b[0m in \u001b[0;36mloads\u001b[0;34m(s, cls, object_hook, parse_float, parse_int, parse_constant, object_pairs_hook, **kw)\u001b[0m\n\u001b[1;32m    337\u001b[0m     \u001b[0;32melse\u001b[0m\u001b[0;34m:\u001b[0m\u001b[0;34m\u001b[0m\u001b[0;34m\u001b[0m\u001b[0m\n\u001b[1;32m    338\u001b[0m         \u001b[0;32mif\u001b[0m \u001b[0;32mnot\u001b[0m \u001b[0misinstance\u001b[0m\u001b[0;34m(\u001b[0m\u001b[0ms\u001b[0m\u001b[0;34m,\u001b[0m \u001b[0;34m(\u001b[0m\u001b[0mbytes\u001b[0m\u001b[0;34m,\u001b[0m \u001b[0mbytearray\u001b[0m\u001b[0;34m)\u001b[0m\u001b[0;34m)\u001b[0m\u001b[0;34m:\u001b[0m\u001b[0;34m\u001b[0m\u001b[0;34m\u001b[0m\u001b[0m\n\u001b[0;32m--> 339\u001b[0;31m             raise TypeError(f'the JSON object must be str, bytes or bytearray, '\n\u001b[0m\u001b[1;32m    340\u001b[0m                             f'not {s.__class__.__name__}')\n\u001b[1;32m    341\u001b[0m         \u001b[0ms\u001b[0m \u001b[0;34m=\u001b[0m \u001b[0ms\u001b[0m\u001b[0;34m.\u001b[0m\u001b[0mdecode\u001b[0m\u001b[0;34m(\u001b[0m\u001b[0mdetect_encoding\u001b[0m\u001b[0;34m(\u001b[0m\u001b[0ms\u001b[0m\u001b[0;34m)\u001b[0m\u001b[0;34m,\u001b[0m \u001b[0;34m'surrogatepass'\u001b[0m\u001b[0;34m)\u001b[0m\u001b[0;34m\u001b[0m\u001b[0;34m\u001b[0m\u001b[0m\n",
            "\u001b[0;31mTypeError\u001b[0m: the JSON object must be str, bytes or bytearray, not float"
          ]
        }
      ]
    },
    {
      "cell_type": "markdown",
      "source": [
        "#Task \\#1: Image Captioning"
      ],
      "metadata": {
        "id": "LQ1NLaZt0QnJ"
      }
    },
    {
      "cell_type": "code",
      "source": [
        "#@title Load Data Frame\n",
        "\n",
        "# aggregation dict for all results\n",
        "all_results_dict = {}\n",
        "\n",
        "df = pd.read_csv(file_input_path)\n",
        "\n",
        "for c in [TASK_CAPTIONING, CROWD_CAPTIONS, TASK_VQA, TASK_MATCHING]:\n",
        "    if c in df:\n",
        "      print(c)\n",
        "      df[c] = df[c].apply(json.loads)"
      ],
      "metadata": {
        "id": "XSdutNwhkkIy",
        "colab": {
          "base_uri": "https://localhost:8080/"
        },
        "outputId": "205ccee7-dbce-4e4b-8513-a95011ef8023"
      },
      "execution_count": 178,
      "outputs": [
        {
          "output_type": "stream",
          "name": "stdout",
          "text": [
            "blip_captioning\n",
            "crowd_captions\n"
          ]
        }
      ]
    },
    {
      "cell_type": "code",
      "source": [
        "#@title Preprocess to calculate CIDEr + Bleu-4 netrics\n",
        "\n",
        "# make df to dict of lists of dicts : {IMG_ID:[{IMG_ID:, CAPTION:}, ..], IMG_ID:[{IMG_ID:, CAPTION:}, ..], ..}\n",
        "df_res = df[[IMAGE_ID,TASK_CAPTIONING]]\n",
        "df_gts = df[[IMAGE_ID,CROWD_CAPTIONS]]\n",
        "\n",
        "df_gts = df_gts.rename(columns={CROWD_CAPTIONS:\"caption\"})\n",
        "df_res = df_res.rename(columns={TASK_CAPTIONING:\"caption\"})\n",
        "\n",
        "exploded_df_gts = df_gts.explode(\"caption\")\n",
        "dict_res = {}\n",
        "dict_gts = {}\n",
        "\n",
        "for img_id in df_res.image_id:\n",
        "  dict_res[img_id] = df_res[df_res.image_id == img_id].to_dict('records')\n",
        "  dict_gts[img_id] = exploded_df_gts[exploded_df_gts.image_id == img_id].to_dict('records')\n",
        "\n",
        "params = {IMAGE_ID: dict_gts.keys()}\n",
        "params[IMAGE_ID]  = dict_res.keys()\n",
        "imgIds = params[IMAGE_ID]\n",
        "\n",
        "gts = {}\n",
        "res = {}\n",
        "for imgId in imgIds:\n",
        "    gts[imgId] = dict_gts[imgId]\n",
        "    res[imgId] = dict_res[imgId]\n",
        "\n",
        "tokenizer = PTBTokenizer()\n",
        "gts  = tokenizer.tokenize(gts)\n",
        "res = tokenizer.tokenize(res)"
      ],
      "metadata": {
        "id": "j6Vl4WQomqom"
      },
      "execution_count": 179,
      "outputs": []
    },
    {
      "cell_type": "markdown",
      "source": [
        "CIDEr + Bleu-4 and Bert Scores"
      ],
      "metadata": {
        "id": "XeQdYQcP0-kc"
      }
    },
    {
      "cell_type": "code",
      "source": [
        "scorers = [\n",
        "    (Bleu(4), \"Bleu_4\"),\n",
        "    (Cider(), \"CIDEr\"),\n",
        "]\n",
        "\n",
        "for scorer, method in scorers:\n",
        "  print(f'computing {scorer.method()} score...')\n",
        "  score, scores = scorer.compute_score(gts, res)\n",
        "  if type(score) == list:\n",
        "\n",
        "    all_results_dict[method] = round(score[3] * 100, 2)\n",
        "  else:\n",
        "    all_results_dict[method] = round(score * 100, 2)\n",
        "\n",
        "print('computing BERTScore...')\n",
        "gts_texts = [\" \".join(gts[imgId]) for imgId in imgIds]\n",
        "res_texts = [\" \".join(res[imgId]) for imgId in imgIds]\n",
        "\n",
        "P, R, F1 = bert_score(gts_texts, res_texts, lang='en', verbose=True)\n",
        "all_results_dict['BERTScore'] = round(F1.mean().item() * 100, 2)\n",
        "print(f\"BERTScore: {round(F1.mean().item() * 100, 2)}\\n\")\n",
        "\n",
        "# Print all results\n",
        "for metric, value in all_results_dict.items():\n",
        "    print(f\"{metric}: {value}\")"
      ],
      "metadata": {
        "colab": {
          "base_uri": "https://localhost:8080/",
          "height": 379,
          "referenced_widgets": [
            "77e87dc0333744498948fc846cab93d2",
            "6b54b09423c34ce29e88a6e3834be920",
            "c3b22f61ef9d4cca9259dff780f5a46f",
            "480897bf0f1b4fdca46919fcfd9eeefc",
            "37e3069c1fe14c45a58c29f4b0a72c8d",
            "d69cc4746397483492867c6473ac6ce7",
            "a219215cf284415c8be1f0b82e8d5b70",
            "4a9da22959d4461384fe0846118553b2",
            "cffff28c8a9d4762ab192dae61b444d8",
            "659e7899f3c843b6bc4fb19900eae721",
            "f6a19e52c31549e1b4307c0dd7965fc9",
            "17c364d1f7304695b8dffdbad0187004",
            "03e239af70e54eb79aedd7814f2d49f0",
            "19cef00bc75043b28e2d42a6532a41d5",
            "2e2de58d032d4b6c91cd5e7876ef3d67",
            "d24b60ecba1442409587d74faed38d5c",
            "e4b237da4488431db08bb7e6e363d2db",
            "6d343409b8924473a692b89724c54b84",
            "9ab0f14af2dc43758231270ccd4deeac",
            "c01e0a780c354a7fafa1ead53c675fa2",
            "2e062c34fb474a8cae6d8fe64fa699ad",
            "9472287c3bb948b8b53f7465e3376425"
          ]
        },
        "id": "mMc1O9rZzqNy",
        "outputId": "2ed9a1db-2db2-48f9-9758-2adb58bf6de6"
      },
      "execution_count": 180,
      "outputs": [
        {
          "output_type": "stream",
          "name": "stdout",
          "text": [
            "computing Bleu score...\n",
            "{'testlen': 4221, 'reflen': 835, 'guess': [4221, 4120, 4019, 3918], 'correct': [679, 330, 165, 77]}\n",
            "ratio: 5.055089820353228\n",
            "computing CIDEr score...\n",
            "computing BERTScore...\n"
          ]
        },
        {
          "output_type": "stream",
          "name": "stderr",
          "text": [
            "Some weights of RobertaModel were not initialized from the model checkpoint at roberta-large and are newly initialized: ['roberta.pooler.dense.bias', 'roberta.pooler.dense.weight']\n",
            "You should probably TRAIN this model on a down-stream task to be able to use it for predictions and inference.\n"
          ]
        },
        {
          "output_type": "stream",
          "name": "stdout",
          "text": [
            "calculating scores...\n",
            "computing bert embedding.\n"
          ]
        },
        {
          "output_type": "display_data",
          "data": {
            "text/plain": [
              "  0%|          | 0/4 [00:00<?, ?it/s]"
            ],
            "application/vnd.jupyter.widget-view+json": {
              "version_major": 2,
              "version_minor": 0,
              "model_id": "77e87dc0333744498948fc846cab93d2"
            }
          },
          "metadata": {}
        },
        {
          "output_type": "stream",
          "name": "stdout",
          "text": [
            "computing greedy matching.\n"
          ]
        },
        {
          "output_type": "display_data",
          "data": {
            "text/plain": [
              "  0%|          | 0/2 [00:00<?, ?it/s]"
            ],
            "application/vnd.jupyter.widget-view+json": {
              "version_major": 2,
              "version_minor": 0,
              "model_id": "17c364d1f7304695b8dffdbad0187004"
            }
          },
          "metadata": {}
        },
        {
          "output_type": "stream",
          "name": "stdout",
          "text": [
            "done in 75.44 seconds, 1.34 sentences/sec\n",
            "BERTScore: 87.81\n",
            "\n",
            "Bleu_4: 5.68\n",
            "CIDEr: 0.07\n",
            "BERTScore: 87.81\n"
          ]
        }
      ]
    },
    {
      "cell_type": "markdown",
      "source": [
        "# Task \\#2: Image-Text Matching\n",
        "\n"
      ],
      "metadata": {
        "id": "9fibbXev0cVx"
      }
    },
    {
      "cell_type": "code",
      "source": [
        "#@title Helper functions to calculate image text matching\n",
        "def calculate_matching_score_proportions_pos_above_under(x, matching_score_type):\n",
        "    positive = [xi for xi in x if xi['label'] == POSITIVE]\n",
        "    under_specified = [xi for xi in x if xi['label'] == UNDER_SPECIFIED]\n",
        "    positive_scores = [xi[matching_score_type] for xi in positive]\n",
        "    under_specified_scores = [xi[matching_score_type] for xi in under_specified]\n",
        "    max_under_specified = max(under_specified_scores)\n",
        "    preds_lst = [x > max_under_specified for x in positive_scores]\n",
        "    matching_pos_above_under_specified_proportion = np.mean(preds_lst)\n",
        "    return matching_pos_above_under_specified_proportion\n",
        "\n",
        "def get_matching_averages(x, matching_score_type):\n",
        "    positive = [xi for xi in x if xi['label'] == POSITIVE]\n",
        "    under_specified = [xi for xi in x if xi['label'] == UNDER_SPECIFIED]\n",
        "    positive_scores = [xi[matching_score_type] for xi in positive]\n",
        "    under_specified_scores = [xi[matching_score_type] for xi in under_specified]\n",
        "    return [np.mean(positive_scores), np.mean(under_specified_scores)]"
      ],
      "metadata": {
        "cellView": "form",
        "id": "CvddFxxdpuhd"
      },
      "execution_count": null,
      "outputs": []
    },
    {
      "cell_type": "code",
      "source": [
        "df[MATCHING_SCORE_ITM] = df[TASK_MATCHING].apply(lambda x: calculate_matching_score_proportions_pos_above_under(x, ITM_SCORE))\n",
        "all_results_dict[\"Matching\"] = round(df[MATCHING_SCORE_ITM].mean() * 100, 2)\n",
        "print(f\"matching score ITM : {round(df[MATCHING_SCORE_ITM].mean() * 100, 2)}\")\n",
        "\n",
        "matching_score_itm_wasserstein = round(df[MATCHING_SCORE_ITM].mean() * 100, 2)\n",
        "matching_itm_avg = f\"{MATCHING_SCORE_ITM}_avg\"\n",
        "df[matching_itm_avg] = df[TASK_MATCHING].apply(lambda x: get_matching_averages(x, ITM_SCORE))\n",
        "print(f\"matching score ITM averages (positive, under-described): {round(df[matching_itm_avg].apply(lambda x: x[0]).mean() * 100, 2), round(df[matching_itm_avg].apply(lambda x: x[1]).mean() * 100, 2)}\")"
      ],
      "metadata": {
        "colab": {
          "base_uri": "https://localhost:8080/"
        },
        "id": "W6W1UEcK1apc",
        "outputId": "883a9036-6429-42bb-fd7d-e5c709ab6bb7"
      },
      "execution_count": null,
      "outputs": [
        {
          "output_type": "stream",
          "name": "stdout",
          "text": [
            "matching score ITM : 76.36\n",
            "matching score ITM averages (positive, under-described): (97.92, 79.05)\n"
          ]
        }
      ]
    },
    {
      "cell_type": "markdown",
      "source": [
        "# Task \\#3: Visual Question Answering (VQA)"
      ],
      "metadata": {
        "id": "BCkZzgvs12lJ"
      }
    },
    {
      "cell_type": "markdown",
      "source": [
        "## VQA: Exact Match Calculation"
      ],
      "metadata": {
        "id": "m3LZKG-m3KEW"
      }
    },
    {
      "cell_type": "code",
      "source": [
        "whoops_vqa_exact_match = df[TASK_VQA].apply(\n",
        "    lambda lst: [x[CANDIDATE_KEY_QA_DICT].lower() == x[REFERENCE_KEY_QA_DICT].lower() for x in lst])\n",
        "L_exact_match = []\n",
        "for lst in whoops_vqa_exact_match:\n",
        "    L_exact_match += lst\n",
        "\n",
        "all_results_dict[\"VQA_exact_match\"] = round(np.mean(L_exact_match) * 100, 2)\n",
        "print(f\"% Exact match: {round(np.mean(L_exact_match) * 100, 2)}\")"
      ],
      "metadata": {
        "colab": {
          "base_uri": "https://localhost:8080/"
        },
        "id": "LOAmP6hQqDbT",
        "outputId": "86b83841-a0ed-490d-90e8-60c6341d2a59"
      },
      "execution_count": null,
      "outputs": [
        {
          "output_type": "stream",
          "name": "stdout",
          "text": [
            "% Exact match: 5.56\n"
          ]
        }
      ]
    },
    {
      "cell_type": "markdown",
      "source": [
        "## VQA: BEM Calculation"
      ],
      "metadata": {
        "id": "Qm4HZ7322sse"
      }
    },
    {
      "cell_type": "code",
      "source": [
        "#@title Sets up the BERT tokenizer using tf-text + helper functions for BEM calculation\n",
        "VOCAB_PATH = 'gs://cloud-tpu-checkpoints/bert/keras_bert/uncased_L-12_H-768_A-12/vocab.txt'\n",
        "\n",
        "vocab_table = tf.lookup.StaticVocabularyTable(\n",
        "        tf.lookup.TextFileInitializer(\n",
        "            filename=VOCAB_PATH,\n",
        "            key_dtype=tf.string,\n",
        "            key_index=tf.lookup.TextFileIndex.WHOLE_LINE,\n",
        "            value_dtype=tf.int64,\n",
        "            value_index=tf.lookup.TextFileIndex.LINE_NUMBER\n",
        "        ),\n",
        "        num_oov_buckets=1)\n",
        "cls_id, sep_id = vocab_table.lookup(tf.convert_to_tensor(['[CLS]', '[SEP]']))\n",
        "tokenizer = text.BertTokenizer(vocab_lookup_table=vocab_table,\n",
        "                               token_out_type=tf.int64,\n",
        "                               preserve_unused_token=True,\n",
        "                               lower_case=True)\n",
        "\n",
        "def bertify_example(example):\n",
        "  question = tokenizer.tokenize(example[QUESTION_KEY_QA_DICT]).merge_dims(1, 2)\n",
        "  reference = tokenizer.tokenize(example[REFERENCE_KEY_QA_DICT]).merge_dims(1, 2)\n",
        "  candidate = tokenizer.tokenize(example[CANDIDATE_KEY_QA_DICT]).merge_dims(1, 2)\n",
        "\n",
        "  input_ids, segment_ids = text.combine_segments(\n",
        "      (candidate, reference, question), cls_id, sep_id)\n",
        "\n",
        "  return {'input_ids': input_ids.numpy(), 'segment_ids': segment_ids.numpy()}\n",
        "\n",
        "\n",
        "def pad(a, length=512):\n",
        "  return np.append(a, np.zeros(length - a.shape[-1], np.int32))\n",
        "\n",
        "\n",
        "def bertify_examples(examples):\n",
        "  input_ids = []\n",
        "  segment_ids = []\n",
        "  for example in examples:\n",
        "    example_inputs = bertify_example(example)\n",
        "    input_ids.append(pad(example_inputs['input_ids']))\n",
        "    segment_ids.append(pad(example_inputs['segment_ids']))\n",
        "\n",
        "  return {'input_ids': np.stack(input_ids), 'segment_ids': np.stack(segment_ids)}"
      ],
      "metadata": {
        "id": "Y32oAOntqmBJ"
      },
      "execution_count": null,
      "outputs": []
    },
    {
      "cell_type": "code",
      "source": [
        "# Load BEM model.\n",
        "bem = hub.load('https://tfhub.dev/google/answer_equivalence/bem/1')\n",
        "\n",
        "bem_scores = []\n",
        "\n",
        "print(\"Preprocessing QA examples..\")\n",
        "all_examples = df[TASK_VQA].apply(bertify_examples)\n",
        "\n",
        "print(\"Calculating BEM scores..\")\n",
        "for inputs in tqdm(all_examples):\n",
        "  # The outputs are raw logits.\n",
        "  raw_outputs = bem(inputs)\n",
        "\n",
        "  # They can be transformed into a classification 'probability' like so:\n",
        "  softmax_score = list(softmax(raw_outputs, axis=1)[:, 1])\n",
        "  bem_scores.append(np.mean(softmax_score))\n",
        "\n",
        "\n",
        "all_results_dict[\"VQA_BEM\"] = round(np.mean(bem_scores) * 100, 2)\n",
        "print(f'\\nBEM score: {round(np.mean(bem_scores) * 100, 2)}')"
      ],
      "metadata": {
        "colab": {
          "base_uri": "https://localhost:8080/"
        },
        "id": "wIRcmVlKrOdb",
        "outputId": "c44508ec-f209-462a-8006-c002e14dc250"
      },
      "execution_count": null,
      "outputs": [
        {
          "output_type": "stream",
          "name": "stdout",
          "text": [
            "Preprocessing QA examples..\n",
            "Calculating BEM scores..\n"
          ]
        },
        {
          "output_type": "stream",
          "name": "stderr",
          "text": [
            "100%|██████████| 494/494 [00:00<00:00, 449552.22it/s]"
          ]
        },
        {
          "output_type": "stream",
          "name": "stdout",
          "text": [
            "\n",
            "BEM score: 41.28\n"
          ]
        },
        {
          "output_type": "stream",
          "name": "stderr",
          "text": [
            "\n"
          ]
        }
      ]
    },
    {
      "cell_type": "markdown",
      "source": [
        "# Get Final Results Aggregated:"
      ],
      "metadata": {
        "id": "rmNZD4b625E2"
      }
    },
    {
      "cell_type": "code",
      "source": [
        "pd.DataFrame(all_results_dict, index=[file_input_path])"
      ],
      "metadata": {
        "colab": {
          "base_uri": "https://localhost:8080/",
          "height": 81
        },
        "outputId": "1cf09012-4264-4c1c-ce8a-1308ac6e3068",
        "id": "opZk7-WY6Qxs"
      },
      "execution_count": null,
      "outputs": [
        {
          "output_type": "execute_result",
          "data": {
            "text/plain": [
              "                             Bleu_4  CIDEr  Matching  VQA_exact_match  VQA_BEM\n",
              "whoops_dataset_for_eval.csv   12.39  64.54     76.36             5.56    41.28"
            ],
            "text/html": [
              "\n",
              "  <div id=\"df-26892e28-7bd6-4543-9ce0-c8bd2080566f\">\n",
              "    <div class=\"colab-df-container\">\n",
              "      <div>\n",
              "<style scoped>\n",
              "    .dataframe tbody tr th:only-of-type {\n",
              "        vertical-align: middle;\n",
              "    }\n",
              "\n",
              "    .dataframe tbody tr th {\n",
              "        vertical-align: top;\n",
              "    }\n",
              "\n",
              "    .dataframe thead th {\n",
              "        text-align: right;\n",
              "    }\n",
              "</style>\n",
              "<table border=\"1\" class=\"dataframe\">\n",
              "  <thead>\n",
              "    <tr style=\"text-align: right;\">\n",
              "      <th></th>\n",
              "      <th>Bleu_4</th>\n",
              "      <th>CIDEr</th>\n",
              "      <th>Matching</th>\n",
              "      <th>VQA_exact_match</th>\n",
              "      <th>VQA_BEM</th>\n",
              "    </tr>\n",
              "  </thead>\n",
              "  <tbody>\n",
              "    <tr>\n",
              "      <th>whoops_dataset_for_eval.csv</th>\n",
              "      <td>12.39</td>\n",
              "      <td>64.54</td>\n",
              "      <td>76.36</td>\n",
              "      <td>5.56</td>\n",
              "      <td>41.28</td>\n",
              "    </tr>\n",
              "  </tbody>\n",
              "</table>\n",
              "</div>\n",
              "      <button class=\"colab-df-convert\" onclick=\"convertToInteractive('df-26892e28-7bd6-4543-9ce0-c8bd2080566f')\"\n",
              "              title=\"Convert this dataframe to an interactive table.\"\n",
              "              style=\"display:none;\">\n",
              "        \n",
              "  <svg xmlns=\"http://www.w3.org/2000/svg\" height=\"24px\"viewBox=\"0 0 24 24\"\n",
              "       width=\"24px\">\n",
              "    <path d=\"M0 0h24v24H0V0z\" fill=\"none\"/>\n",
              "    <path d=\"M18.56 5.44l.94 2.06.94-2.06 2.06-.94-2.06-.94-.94-2.06-.94 2.06-2.06.94zm-11 1L8.5 8.5l.94-2.06 2.06-.94-2.06-.94L8.5 2.5l-.94 2.06-2.06.94zm10 10l.94 2.06.94-2.06 2.06-.94-2.06-.94-.94-2.06-.94 2.06-2.06.94z\"/><path d=\"M17.41 7.96l-1.37-1.37c-.4-.4-.92-.59-1.43-.59-.52 0-1.04.2-1.43.59L10.3 9.45l-7.72 7.72c-.78.78-.78 2.05 0 2.83L4 21.41c.39.39.9.59 1.41.59.51 0 1.02-.2 1.41-.59l7.78-7.78 2.81-2.81c.8-.78.8-2.07 0-2.86zM5.41 20L4 18.59l7.72-7.72 1.47 1.35L5.41 20z\"/>\n",
              "  </svg>\n",
              "      </button>\n",
              "      \n",
              "  <style>\n",
              "    .colab-df-container {\n",
              "      display:flex;\n",
              "      flex-wrap:wrap;\n",
              "      gap: 12px;\n",
              "    }\n",
              "\n",
              "    .colab-df-convert {\n",
              "      background-color: #E8F0FE;\n",
              "      border: none;\n",
              "      border-radius: 50%;\n",
              "      cursor: pointer;\n",
              "      display: none;\n",
              "      fill: #1967D2;\n",
              "      height: 32px;\n",
              "      padding: 0 0 0 0;\n",
              "      width: 32px;\n",
              "    }\n",
              "\n",
              "    .colab-df-convert:hover {\n",
              "      background-color: #E2EBFA;\n",
              "      box-shadow: 0px 1px 2px rgba(60, 64, 67, 0.3), 0px 1px 3px 1px rgba(60, 64, 67, 0.15);\n",
              "      fill: #174EA6;\n",
              "    }\n",
              "\n",
              "    [theme=dark] .colab-df-convert {\n",
              "      background-color: #3B4455;\n",
              "      fill: #D2E3FC;\n",
              "    }\n",
              "\n",
              "    [theme=dark] .colab-df-convert:hover {\n",
              "      background-color: #434B5C;\n",
              "      box-shadow: 0px 1px 3px 1px rgba(0, 0, 0, 0.15);\n",
              "      filter: drop-shadow(0px 1px 2px rgba(0, 0, 0, 0.3));\n",
              "      fill: #FFFFFF;\n",
              "    }\n",
              "  </style>\n",
              "\n",
              "      <script>\n",
              "        const buttonEl =\n",
              "          document.querySelector('#df-26892e28-7bd6-4543-9ce0-c8bd2080566f button.colab-df-convert');\n",
              "        buttonEl.style.display =\n",
              "          google.colab.kernel.accessAllowed ? 'block' : 'none';\n",
              "\n",
              "        async function convertToInteractive(key) {\n",
              "          const element = document.querySelector('#df-26892e28-7bd6-4543-9ce0-c8bd2080566f');\n",
              "          const dataTable =\n",
              "            await google.colab.kernel.invokeFunction('convertToInteractive',\n",
              "                                                     [key], {});\n",
              "          if (!dataTable) return;\n",
              "\n",
              "          const docLinkHtml = 'Like what you see? Visit the ' +\n",
              "            '<a target=\"_blank\" href=https://colab.research.google.com/notebooks/data_table.ipynb>data table notebook</a>'\n",
              "            + ' to learn more about interactive tables.';\n",
              "          element.innerHTML = '';\n",
              "          dataTable['output_type'] = 'display_data';\n",
              "          await google.colab.output.renderOutput(dataTable, element);\n",
              "          const docLink = document.createElement('div');\n",
              "          docLink.innerHTML = docLinkHtml;\n",
              "          element.appendChild(docLink);\n",
              "        }\n",
              "      </script>\n",
              "    </div>\n",
              "  </div>\n",
              "  "
            ]
          },
          "metadata": {},
          "execution_count": 28
        }
      ]
    }
  ]
}